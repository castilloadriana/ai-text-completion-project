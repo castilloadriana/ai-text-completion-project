{
 "cells": [
  {
   "cell_type": "code",
   "execution_count": 25,
   "id": "f9306d58-529b-4714-b217-41940b2a674c",
   "metadata": {},
   "outputs": [
    {
     "name": "stdout",
     "output_type": "stream",
     "text": [
      "Collecting cohere\n",
      "  Downloading cohere-5.15.0-py3-none-any.whl.metadata (3.4 kB)\n",
      "Collecting fastavro<2.0.0,>=1.9.4 (from cohere)\n",
      "  Downloading fastavro-1.11.1-cp312-cp312-macosx_10_13_universal2.whl.metadata (5.7 kB)\n",
      "Requirement already satisfied: httpx>=0.21.2 in /opt/anaconda3/lib/python3.12/site-packages (from cohere) (0.27.0)\n",
      "Collecting httpx-sse==0.4.0 (from cohere)\n",
      "  Downloading httpx_sse-0.4.0-py3-none-any.whl.metadata (9.0 kB)\n",
      "Requirement already satisfied: pydantic>=1.9.2 in /opt/anaconda3/lib/python3.12/site-packages (from cohere) (2.8.2)\n",
      "Requirement already satisfied: pydantic-core<3.0.0,>=2.18.2 in /opt/anaconda3/lib/python3.12/site-packages (from cohere) (2.20.1)\n",
      "Requirement already satisfied: requests<3.0.0,>=2.0.0 in /opt/anaconda3/lib/python3.12/site-packages (from cohere) (2.32.3)\n",
      "Requirement already satisfied: tokenizers<1,>=0.15 in /opt/anaconda3/lib/python3.12/site-packages (from cohere) (0.21.1)\n",
      "Collecting types-requests<3.0.0,>=2.0.0 (from cohere)\n",
      "  Downloading types_requests-2.32.4.20250611-py3-none-any.whl.metadata (2.1 kB)\n",
      "Requirement already satisfied: typing_extensions>=4.0.0 in /opt/anaconda3/lib/python3.12/site-packages (from cohere) (4.11.0)\n",
      "Requirement already satisfied: anyio in /opt/anaconda3/lib/python3.12/site-packages (from httpx>=0.21.2->cohere) (4.2.0)\n",
      "Requirement already satisfied: certifi in /opt/anaconda3/lib/python3.12/site-packages (from httpx>=0.21.2->cohere) (2024.12.14)\n",
      "Requirement already satisfied: httpcore==1.* in /opt/anaconda3/lib/python3.12/site-packages (from httpx>=0.21.2->cohere) (1.0.2)\n",
      "Requirement already satisfied: idna in /opt/anaconda3/lib/python3.12/site-packages (from httpx>=0.21.2->cohere) (3.7)\n",
      "Requirement already satisfied: sniffio in /opt/anaconda3/lib/python3.12/site-packages (from httpx>=0.21.2->cohere) (1.3.0)\n",
      "Requirement already satisfied: h11<0.15,>=0.13 in /opt/anaconda3/lib/python3.12/site-packages (from httpcore==1.*->httpx>=0.21.2->cohere) (0.14.0)\n",
      "Requirement already satisfied: annotated-types>=0.4.0 in /opt/anaconda3/lib/python3.12/site-packages (from pydantic>=1.9.2->cohere) (0.6.0)\n",
      "Requirement already satisfied: charset-normalizer<4,>=2 in /opt/anaconda3/lib/python3.12/site-packages (from requests<3.0.0,>=2.0.0->cohere) (3.3.2)\n",
      "Requirement already satisfied: urllib3<3,>=1.21.1 in /opt/anaconda3/lib/python3.12/site-packages (from requests<3.0.0,>=2.0.0->cohere) (2.2.3)\n",
      "Requirement already satisfied: huggingface-hub<1.0,>=0.16.4 in /opt/anaconda3/lib/python3.12/site-packages (from tokenizers<1,>=0.15->cohere) (0.33.0)\n",
      "Requirement already satisfied: filelock in /opt/anaconda3/lib/python3.12/site-packages (from huggingface-hub<1.0,>=0.16.4->tokenizers<1,>=0.15->cohere) (3.13.1)\n",
      "Requirement already satisfied: fsspec>=2023.5.0 in /opt/anaconda3/lib/python3.12/site-packages (from huggingface-hub<1.0,>=0.16.4->tokenizers<1,>=0.15->cohere) (2024.6.1)\n",
      "Requirement already satisfied: packaging>=20.9 in /opt/anaconda3/lib/python3.12/site-packages (from huggingface-hub<1.0,>=0.16.4->tokenizers<1,>=0.15->cohere) (24.1)\n",
      "Requirement already satisfied: pyyaml>=5.1 in /opt/anaconda3/lib/python3.12/site-packages (from huggingface-hub<1.0,>=0.16.4->tokenizers<1,>=0.15->cohere) (6.0.1)\n",
      "Requirement already satisfied: tqdm>=4.42.1 in /opt/anaconda3/lib/python3.12/site-packages (from huggingface-hub<1.0,>=0.16.4->tokenizers<1,>=0.15->cohere) (4.66.5)\n",
      "Requirement already satisfied: hf-xet<2.0.0,>=1.1.2 in /opt/anaconda3/lib/python3.12/site-packages (from huggingface-hub<1.0,>=0.16.4->tokenizers<1,>=0.15->cohere) (1.1.3)\n",
      "Downloading cohere-5.15.0-py3-none-any.whl (259 kB)\n",
      "Downloading httpx_sse-0.4.0-py3-none-any.whl (7.8 kB)\n",
      "Downloading fastavro-1.11.1-cp312-cp312-macosx_10_13_universal2.whl (939 kB)\n",
      "\u001b[2K   \u001b[90m━━━━━━━━━━━━━━━━━━━━━━━━━━━━━━━━━━━━━━━━\u001b[0m \u001b[32m939.6/939.6 kB\u001b[0m \u001b[31m5.6 MB/s\u001b[0m eta \u001b[36m0:00:00\u001b[0m\n",
      "\u001b[?25hDownloading types_requests-2.32.4.20250611-py3-none-any.whl (20 kB)\n",
      "Installing collected packages: types-requests, httpx-sse, fastavro, cohere\n",
      "Successfully installed cohere-5.15.0 fastavro-1.11.1 httpx-sse-0.4.0 types-requests-2.32.4.20250611\n"
     ]
    }
   ],
   "source": [
    "!pip install cohere"
   ]
  },
  {
   "cell_type": "code",
   "execution_count": 29,
   "id": "563aea8c-b1cd-4040-a443-09659102a451",
   "metadata": {},
   "outputs": [
    {
     "name": "stdout",
     "output_type": "stream",
     "text": [
      "Machine Learning (ML) is a branch of computer science that focuses on developing algorithms and models that enable computers to learn and make predictions or decisions without being explicitly programmed. It is a core component of artificial intelligence (AI). \n",
      "\n",
      "Machine Learning allows systems to identify patterns in data, uncover insights, and improve processes through iterative learning. Instead of writing explicit programming instructions, developers prepare and provide data sets (known as training data) to the machine, which the machine uses to build and refine models. These models are then deployed to make predictions or take actions on new, unseen data.\n",
      "\n",
      "There are various types of Machine Learning, including:\n",
      "\n",
      "1. Supervised Learning: Models are trained using labeled data to learn the relationship between input and output variables and predict outcomes accurately.\n",
      "\n",
      "2. Unsupervised Learning: Models group similar data points (clustering) or capture important data features (dimensionality reduction) without labeled data. It helps in understanding data and identifying patterns.\n",
      "\n",
      "3. Reinforcement Learning: Models are trained using a reward system to learn optimal behavior in dynamic environments. It is commonly used in robotics and game-playing scenarios.\n",
      "\n",
      "4. Semi-supervised Learning: It makes use of a small portion of labeled data and a large amount of unlabeled data to train models. This approach is beneficial when labeling data can be expensive or time-consuming.\n",
      "\n",
      "5. Deep Learning: It utilizes artificial neural networks (ANNs) with multiple layers of interconnected nodes to learn and make decisions based on hierarchical data features. Deep Learning has been particularly successful in areas like image and speech recognition, natural language processing, and prediction. \n",
      "\n",
      "Machine Learning is used in various fields, including finance, healthcare, robotics, cybersecurity, and more. Its applications include:\n",
      "\n",
      "1. Fraud Detection: Machine Learning algorithms can analyze vast amounts of transaction data, identify patterns of fraudulent activities, and alert financial institutions or platforms of potential fraudulent transactions in real time. \n",
      "\n",
      "2. Recommendation Systems: Machine Learning powers recommendation engines used by streaming services, e-commerce platforms, and social media sites to suggest personalized content, products, or services based on a user's preferences. \n",
      "\n",
      "3. Natural Language Processing (NLP): Machine Learning techniques enable computers to understand, interpret, and generate human language. This powers virtual assistants, sentiment analysis, and chatbots. \n",
      "\n",
      "4. Healthcare: Machine Learning is used to predict medical conditions, provide accurate diagnoses, optimize treatment plans, and assist in drug discovery. \n",
      "\n",
      "5. Image and Voice Recognition: Machine Learning enables computers to recognize objects in images and understand verbal commands, making technologies like self-driving cars and virtual assistants possible. \n",
      "\n",
      "6. Optimizing Supply Chains and Logistics: Machine Learning can analyze historical data, consider various factors, and provide optimized solutions for logistics and supply chain management. \n",
      "\n",
      "7. Detection of Cybersecurity Threats: Machine Learning can help identify patterns of malicious activity, detect potential cyber threats, and enhance cybersecurity measures. \n",
      "\n",
      "8. Financial Applications: Machine Learning algorithms are used for stock market prediction, algorithmic trading, credit scoring, and fraud detection in financial transactions. \n",
      "\n",
      "These are just a few examples of the wide range of applications of Machine Learning in various industries. \n",
      "\n",
      "I hope this provides a useful overview of Machine Learning. If you have any specific questions, please feel free to ask!\n"
     ]
    }
   ],
   "source": [
    "# import cohere\n",
    "\n",
    "# co = cohere.Client('JLksi8Gima9UoHGh2rEUQOcGkZENK5n6Q8XLstoK')\n",
    "# message = \"What is Machine Learning?\"\n",
    "# response = co.chat(\n",
    "#   message=message,\n",
    "#   model=\"command\",\n",
    "#   temperature=0.3\n",
    "# )\n",
    "\n",
    "\n",
    "# answer = response.text\n",
    "# print(answer)"
   ]
  },
  {
   "cell_type": "code",
   "execution_count": 15,
   "id": "f06e37f3-7adc-4bc7-98f1-861ef5410606",
   "metadata": {},
   "outputs": [
    {
     "name": "stdout",
     "output_type": "stream",
     "text": [
      "Cohere Text Completion App\n",
      "Type your prompt below (type 'exit' to quit):\n"
     ]
    },
    {
     "name": "stdin",
     "output_type": "stream",
     "text": [
      "Set creativity level (0–1, default is 0.5):  0.9\n",
      "\n",
      "You:  summarize this How to Harvest, Store and Process Apples 30 September 2016, written by Benedict Vanheems gb flag  Apples on a tree Ah, the season of mists and mellow fruitfulness! If you’re lucky enough to have an apple tree groaning with fruit, you’ll want to make the most of this seasonal abundance. Read on to find out exactly when and how to pick apples, and the best ways to store and process them.  Play Knowing When to Harvest Apples You’ve been waiting all season and finally the moment of truth has arrived: sweet and crunchy apples ready for picking! But how do you know they are ready to harvest? Nature offers us some clues.  Apples are ready when the skin color deepens. Fruits at the sides and top of the tree usually ripen first because they receive more sunlight. Ripe fruits should easily come away from the tree, while the presence of windfalls is a sure sign you can start harvesting. If in doubt, a simple taste test should confirm whether your apples are fit to pick!  How to Pick an Apple The best way to pick an apple is to cup it in the palm of your hand, lift it up then give it a gentle twist until it comes away. Each apple should detach complete with its stalk. Always handle apples carefully to avoid bruising the delicate flesh and never tug an apple from the tree or you could damage the fruiting spurs or cause apples nearby to drop.  Take care when picking apples from higher up. Use a stepladder and avoid overreaching or you could lose your balance. Remember, not all apples are ready at the same time, so pick regularly as individual clusters ripen.\n"
     ]
    },
    {
     "name": "stdout",
     "output_type": "stream",
     "text": [
      "AI: Here is a summary of the text:\n",
      "\n",
      "The text provides guidance on how to harvest, store and process apples. It suggests ways to determine whether apples are ready for harvesting. The best way to pick apples is by cupping them in the palm of your hand and gently twisting until they come away. Apples should be handled with care to avoid bruising and it is recommended to pick them regularly as they ripen. \n",
      "\n",
      "Nature provides some clues to indicate that apples are ready for harvesting. The color of the apple skin deepens as they ripen and ripe apples should easily come away from the tree. Windfalls are a sure sign that harvesting can commence. If unsure, a taste test can confirm whether apples are fit for picking. \n",
      "\n",
      "Harvested apples should be handled with care to avoid bruising. When storing apples, handle them carefully to minimize damage and use a well-ventilated container. They can be stored in the fridge or in a cool, dry, dark place. \n",
      "\n",
      "The text also highlights the importance of picking apples regularly as individual clusters ripen, especially those at the top and sides of the tree which usually ripen first. \n",
      "\n",
      "Overall the text provides valuable insights on how to make the most of the apple harvest and ensure that they are handled and stored correctly.\n",
      "\n"
     ]
    },
    {
     "name": "stdin",
     "output_type": "stream",
     "text": [
      "\n",
      "You:  exit\n"
     ]
    },
    {
     "name": "stdout",
     "output_type": "stream",
     "text": [
      "Exiting. Goodbye!\n"
     ]
    }
   ],
   "source": [
    "import cohere\n",
    "\n",
    "co = cohere.Client(\"SECRET API KEY")  \n",
    "\n",
    "print(\"🧠 Cohere Text Completion App\")\n",
    "print(\"Type your prompt below (type 'exit' to quit):\")\n",
    "\n",
    "# Let user set temperature\n",
    "temp_input = input(\"Set creativity level (0–1, default is 0.5): \").strip()\n",
    "try:\n",
    "    temperature = float(temp_input)\n",
    "    if not (0 <= temperature <= 1):\n",
    "        print(\"Invalid temperature. Using default (0.5).\")\n",
    "        temperature = 0.5\n",
    "except:\n",
    "    temperature = 0.5\n",
    "\n",
    "while True:\n",
    "    user_input = input(\"\\nYou: \").strip()\n",
    "\n",
    "    if user_input.lower() == \"exit\":\n",
    "        print(\"Exiting. Goodbye!\")\n",
    "        break\n",
    "    elif not user_input:\n",
    "        print(\"Please enter something.\")\n",
    "        continue\n",
    "    elif len(user_input.split()) > 500:\n",
    "        print(\" Input too long. Try something shorter.\")\n",
    "        continue\n",
    "\n",
    "    try:\n",
    "        response = co.chat(\n",
    "            message=user_input,\n",
    "            model=\"command\",\n",
    "            temperature=temperature\n",
    "        )\n",
    "        print(f\"AI: {response.text}\\n\")\n",
    "    except cohere.CohereAPIError as e:\n",
    "        print(f\" API Error: {e.message}\")\n",
    "    except Exception as e:\n",
    "        print(f\" Unexpected Error: {e}\")\n"
   ]
  },
  {
   "cell_type": "code",
   "execution_count": null,
   "id": "b2300e55-a2f5-441a-a07f-719e163ce55f",
   "metadata": {},
   "outputs": [],
   "source": []
  }
 ],
 "metadata": {
  "kernelspec": {
   "display_name": "Python [conda env:base] *",
   "language": "python",
   "name": "conda-base-py"
  },
  "language_info": {
   "codemirror_mode": {
    "name": "ipython",
    "version": 3
   },
   "file_extension": ".py",
   "mimetype": "text/x-python",
   "name": "python",
   "nbconvert_exporter": "python",
   "pygments_lexer": "ipython3",
   "version": "3.12.7"
  }
 },
 "nbformat": 4,
 "nbformat_minor": 5
}
